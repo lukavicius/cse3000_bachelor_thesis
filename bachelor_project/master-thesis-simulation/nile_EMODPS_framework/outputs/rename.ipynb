{
 "cells": [
  {
   "cell_type": "code",
   "id": "initial_id",
   "metadata": {
    "collapsed": true,
    "ExecuteTime": {
     "end_time": "2024-06-09T15:47:51.246254Z",
     "start_time": "2024-06-09T15:47:51.201322Z"
    }
   },
   "source": [
    "import os\n",
    "\n",
    "def rename_files(directory):\n",
    "    # List all files in the directory\n",
    "    files = os.listdir(directory)\n",
    "    \n",
    "    # Filter out files that do not match the pattern x.csv\n",
    "    csv_files = [f for f in files if f.endswith('.csv') and f[:-4].isdigit()]\n",
    "    \n",
    "    # Sort files by their numerical part\n",
    "    csv_files.sort(key=lambda x: int(x[:-4]))\n",
    "    \n",
    "    # Rename files in the specified order\n",
    "    for idx, old_name in enumerate(csv_files):\n",
    "        new_name = f'archive_{idx}.csv'\n",
    "        old_path = os.path.join(directory, old_name)\n",
    "        new_path = os.path.join(directory, new_name)\n",
    "        os.rename(old_path, new_path)\n",
    "        print(f'Renamed {old_name} to {new_name}')\n",
    "\n",
    "# Specify the directory containing the CSV files\n",
    "directory = 'archive_logs120Hurst_grouped/archives/tmp'\n",
    "\n",
    "# Call the rename function\n",
    "rename_files(directory)\n"
   ],
   "outputs": [
    {
     "ename": "FileExistsError",
     "evalue": "[WinError 183] Cannot create a file when that file already exists: 'archive_logs120Hurst_grouped/archives/tmp\\\\50000.csv' -> 'archive_logs120Hurst_grouped/archives/tmp\\\\archive_0.csv'",
     "output_type": "error",
     "traceback": [
      "\u001B[1;31m---------------------------------------------------------------------------\u001B[0m",
      "\u001B[1;31mFileExistsError\u001B[0m                           Traceback (most recent call last)",
      "Cell \u001B[1;32mIn[3], line 25\u001B[0m\n\u001B[0;32m     22\u001B[0m directory \u001B[38;5;241m=\u001B[39m \u001B[38;5;124m'\u001B[39m\u001B[38;5;124marchive_logs120Hurst_grouped/archives/tmp\u001B[39m\u001B[38;5;124m'\u001B[39m\n\u001B[0;32m     24\u001B[0m \u001B[38;5;66;03m# Call the rename function\u001B[39;00m\n\u001B[1;32m---> 25\u001B[0m rename_files(directory)\n",
      "Cell \u001B[1;32mIn[3], line 18\u001B[0m, in \u001B[0;36mrename_files\u001B[1;34m(directory)\u001B[0m\n\u001B[0;32m     16\u001B[0m old_path \u001B[38;5;241m=\u001B[39m os\u001B[38;5;241m.\u001B[39mpath\u001B[38;5;241m.\u001B[39mjoin(directory, old_name)\n\u001B[0;32m     17\u001B[0m new_path \u001B[38;5;241m=\u001B[39m os\u001B[38;5;241m.\u001B[39mpath\u001B[38;5;241m.\u001B[39mjoin(directory, new_name)\n\u001B[1;32m---> 18\u001B[0m os\u001B[38;5;241m.\u001B[39mrename(old_path, new_path)\n\u001B[0;32m     19\u001B[0m \u001B[38;5;28mprint\u001B[39m(\u001B[38;5;124mf\u001B[39m\u001B[38;5;124m'\u001B[39m\u001B[38;5;124mRenamed \u001B[39m\u001B[38;5;132;01m{\u001B[39;00mold_name\u001B[38;5;132;01m}\u001B[39;00m\u001B[38;5;124m to \u001B[39m\u001B[38;5;132;01m{\u001B[39;00mnew_name\u001B[38;5;132;01m}\u001B[39;00m\u001B[38;5;124m'\u001B[39m)\n",
      "\u001B[1;31mFileExistsError\u001B[0m: [WinError 183] Cannot create a file when that file already exists: 'archive_logs120Hurst_grouped/archives/tmp\\\\50000.csv' -> 'archive_logs120Hurst_grouped/archives/tmp\\\\archive_0.csv'"
     ]
    }
   ],
   "execution_count": 3
  },
  {
   "metadata": {},
   "cell_type": "code",
   "outputs": [],
   "execution_count": null,
   "source": "",
   "id": "d6c24319cb63fb1"
  }
 ],
 "metadata": {
  "kernelspec": {
   "display_name": "Python 3",
   "language": "python",
   "name": "python3"
  },
  "language_info": {
   "codemirror_mode": {
    "name": "ipython",
    "version": 2
   },
   "file_extension": ".py",
   "mimetype": "text/x-python",
   "name": "python",
   "nbconvert_exporter": "python",
   "pygments_lexer": "ipython2",
   "version": "2.7.6"
  }
 },
 "nbformat": 4,
 "nbformat_minor": 5
}
