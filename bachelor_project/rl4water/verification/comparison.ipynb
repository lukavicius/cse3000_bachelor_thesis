{
 "cells": [
  {
   "cell_type": "code",
   "id": "initial_id",
   "metadata": {
    "collapsed": true,
    "ExecuteTime": {
     "end_time": "2024-05-20T17:10:03.293220Z",
     "start_time": "2024-05-20T17:10:02.817280Z"
    }
   },
   "source": [
    "import pandas as pd"
   ],
   "outputs": [],
   "execution_count": 1
  },
  {
   "metadata": {
    "ExecuteTime": {
     "end_time": "2024-05-20T17:10:49.486186Z",
     "start_time": "2024-05-20T17:10:49.473234Z"
    }
   },
   "cell_type": "code",
   "source": [
    "\n",
    "\n",
    "def compare(f1, f2):\n",
    "    df1 = pd.read_csv(f1)\n",
    "    df2 = pd.read_csv(f2)\n",
    "\n",
    "    # Check if both files have the same columns\n",
    "    if list(df1.columns) != list(df2.columns):\n",
    "        print(\"The files have different columns.\")\n",
    "        return\n",
    "\n",
    "    # Define columns to compare\n",
    "    columns_to_compare = [\n",
    "        'Input', 'Gerd_storage', 'Gerd_release', 'Roseires_storage', \n",
    "        'Roseires_release', 'Sennar_storage', 'Sennar_release', \n",
    "        'Had_storage', 'Had_release', 'Gerd_production'\n",
    "    ]\n",
    "\n",
    "    differences = []\n",
    "\n",
    "    # Iterate over each row and column, comparing values to 3 decimal points\n",
    "    for index, row in df1.iterrows():\n",
    "        year = row['Year']\n",
    "        for col in columns_to_compare[1:]:  # Skip 'Year' for comparison\n",
    "            val1 = round(row[col], 2)\n",
    "            val2 = round(df2.loc[index, col], 2)\n",
    "            if val1 != val2:\n",
    "                differences.append((year, col, val1, val2))\n",
    "\n",
    "    # Print the differences\n",
    "    if differences:\n",
    "        print(\"Differences found:\")\n",
    "        for year, col, val1, val2 in differences:\n",
    "            print(f\"Year: {year}, Column: {col}: {val1}, {val2}\")\n",
    "    else:\n",
    "        print(\"No differences found.\")"
   ],
   "id": "bf06cf709055aca6",
   "outputs": [],
   "execution_count": 2
  },
  {
   "metadata": {
    "ExecuteTime": {
     "end_time": "2024-05-20T17:10:50.116992Z",
     "start_time": "2024-05-20T17:10:50.040915Z"
    }
   },
   "cell_type": "code",
   "source": [
    "f1 = 'master.csv'\n",
    "f2 = 'group13.csv'\n",
    "compare(f1, f2)"
   ],
   "id": "e313f9748def9249",
   "outputs": [
    {
     "name": "stdout",
     "output_type": "stream",
     "text": [
      "No differences found.\n"
     ]
    }
   ],
   "execution_count": 3
  },
  {
   "metadata": {},
   "cell_type": "code",
   "outputs": [],
   "execution_count": null,
   "source": [],
   "id": "f3136a9667aff673"
  }
 ],
 "metadata": {
  "kernelspec": {
   "display_name": "Python 3",
   "language": "python",
   "name": "python3"
  },
  "language_info": {
   "codemirror_mode": {
    "name": "ipython",
    "version": 2
   },
   "file_extension": ".py",
   "mimetype": "text/x-python",
   "name": "python",
   "nbconvert_exporter": "python",
   "pygments_lexer": "ipython2",
   "version": "2.7.6"
  }
 },
 "nbformat": 4,
 "nbformat_minor": 5
}
