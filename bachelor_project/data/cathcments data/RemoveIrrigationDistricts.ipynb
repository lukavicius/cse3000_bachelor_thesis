{
 "cells": [
  {
   "cell_type": "code",
   "id": "initial_id",
   "metadata": {
    "collapsed": true,
    "ExecuteTime": {
     "end_time": "2024-06-07T14:23:30.243713Z",
     "start_time": "2024-06-07T14:23:29.421009Z"
    }
   },
   "source": [
    "import os\n",
    "import numpy as np\n",
    "\n",
    "files = [\"120Hurst_grouped\", \"150ias_grouped\", \"Baseline_grouped\"]\n",
    "rivers = {\n",
    "    \"Girba\" : \"atbara\",\n",
    "    \"Jebel\" : \"whiteNile\"\n",
    "}\n",
    "for file in files:\n",
    "    for trace in range (100):\n",
    "        for river in rivers:\n",
    "            path = os.path.join(file, f\"trace{trace}\", f\"{rivers[river]}.txt\")\n",
    "            if os.path.exists(path):\n",
    "                with open(os.path.join(path), 'r+') as f:\n",
    "                    lines = f.readlines()\n",
    "                    # Extract the primary information, which are lines after the first three lines\n",
    "                    inflows = [float(line.strip()) for line in lines]\n",
    "                    pathdemand = os.path.join(\"..\", \"demands data\", f\"Demand{river}.txt\")\n",
    "                    if os.path.exists(pathdemand):\n",
    "                        with open(os.path.join(pathdemand), 'r+') as fi:\n",
    "                            linesdemand = fi.readlines()\n",
    "                            # Extract the primary information, which are lines after the first three lines\n",
    "                            demands = [float(line.strip()) for line in linesdemand]\n",
    "                            newinflows = np.array(inflows) - np.array(demands)\n",
    "                            newinflows = [0 if value < 0 else value for value in newinflows]\n",
    "                            f.seek(0)\n",
    "                            f.truncate()\n",
    "                            for x in newinflows:\n",
    "                                f.write(f\"{x}\\n\")"
   ],
   "outputs": [],
   "execution_count": 13
  },
  {
   "metadata": {
    "ExecuteTime": {
     "end_time": "2024-06-07T14:26:12.427948Z",
     "start_time": "2024-06-07T14:26:12.412936Z"
    }
   },
   "cell_type": "code",
   "source": [
    "files = [\"120Hurst_grouped\", \"150ias_grouped\", \"Baseline_grouped\"]\n",
    "rivers = {\n",
    "    \"Girba\" : \"atbara\",\n",
    "    \"Jebel\" : \"whiteNile\"\n",
    "}\n",
    "file = \"Averages\"\n",
    "for river in rivers:\n",
    "    path = os.path.join(file, f\"{rivers[river]}.txt\")\n",
    "    if os.path.exists(path):\n",
    "        with open(os.path.join(path), 'r+') as f:\n",
    "            lines = f.readlines()\n",
    "            # Extract the primary information, which are lines after the first three lines\n",
    "            inflows = [float(line.strip()) for line in lines]\n",
    "            pathdemand = os.path.join(\"..\", \"demands data\", f\"Demand{river}.txt\")\n",
    "            if os.path.exists(pathdemand):\n",
    "                with open(os.path.join(pathdemand), 'r+') as fi:\n",
    "                    linesdemand = fi.readlines()\n",
    "                    # Extract the primary information, which are lines after the first three lines\n",
    "                    demands = [float(line.strip()) for line in linesdemand]\n",
    "                    newinflows = np.array(inflows) - np.array(demands)\n",
    "                    newinflows = [0 if value < 0 else value for value in newinflows]\n",
    "                    f.seek(0)\n",
    "                    f.truncate()\n",
    "                    print(\"a\")\n",
    "                    for x in newinflows:\n",
    "                        f.write(f\"{x}\\n\")"
   ],
   "id": "483ac41b4912ee50",
   "outputs": [
    {
     "name": "stdout",
     "output_type": "stream",
     "text": [
      "a\n",
      "a\n"
     ]
    }
   ],
   "execution_count": 18
  },
  {
   "metadata": {},
   "cell_type": "code",
   "outputs": [],
   "execution_count": null,
   "source": "",
   "id": "4f9779a4ad5539ee"
  }
 ],
 "metadata": {
  "kernelspec": {
   "display_name": "Python 3",
   "language": "python",
   "name": "python3"
  },
  "language_info": {
   "codemirror_mode": {
    "name": "ipython",
    "version": 2
   },
   "file_extension": ".py",
   "mimetype": "text/x-python",
   "name": "python",
   "nbconvert_exporter": "python",
   "pygments_lexer": "ipython2",
   "version": "2.7.6"
  }
 },
 "nbformat": 4,
 "nbformat_minor": 5
}
