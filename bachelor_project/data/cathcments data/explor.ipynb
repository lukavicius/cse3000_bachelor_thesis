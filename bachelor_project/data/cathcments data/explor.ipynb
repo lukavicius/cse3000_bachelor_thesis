{
 "cells": [
  {
   "metadata": {
    "ExecuteTime": {
     "end_time": "2024-06-07T13:56:14.589632Z",
     "start_time": "2024-06-07T13:56:14.578051Z"
    }
   },
   "cell_type": "code",
   "source": [
    "import os\n",
    "\n",
    "def createGroupedData(distribution):\n",
    "    grouped_data = dict()\n",
    "    for i in range(1, 101):\n",
    "        for j in range(1, 1476):\n",
    "            path = os.path.join(distribution, f'trace{i}', f'{j}.Inflow')\n",
    "            if os.path.exists(path):\n",
    "                with open(os.path.join(path), 'r') as f:\n",
    "                    lines = f.readlines()\n",
    "                    # Extract the primary information, which are lines after the first three lines\n",
    "                    data = [float(line.strip()) for line in lines[3:]]\n",
    "                    \n",
    "                    if data:  # Only append if data was successfully read\n",
    "                        for k, number in enumerate(data):\n",
    "                            if f\"{j}.{k}\" not in grouped_data:\n",
    "                                grouped_data[f\"{j}.{k}\"] = []\n",
    "                            # Append the number to the list corresponding to the key\n",
    "                            grouped_data[f\"{j}.{k}\"].append(number)\n",
    "    return grouped_data"
   ],
   "id": "26b7009a277b8669",
   "outputs": [],
   "execution_count": 1
  },
  {
   "metadata": {
    "ExecuteTime": {
     "end_time": "2024-06-07T13:56:35.649050Z",
     "start_time": "2024-06-07T13:56:14.589632Z"
    }
   },
   "cell_type": "code",
   "source": "grouped_data = createGroupedData(\"Annealing_Baseline\")",
   "id": "4b660d53359c1120",
   "outputs": [],
   "execution_count": 2
  },
  {
   "metadata": {
    "ExecuteTime": {
     "end_time": "2024-06-07T13:56:35.656841Z",
     "start_time": "2024-06-07T13:56:35.650056Z"
    }
   },
   "cell_type": "code",
   "source": "print(grouped_data[\"1.0\"])",
   "id": "e2c48d754b8c5023",
   "outputs": [
    {
     "name": "stdout",
     "output_type": "stream",
     "text": [
      "[2.5958, 2.4342, 2.4478, 2.8033, 3.9525, 1.2305, 2.0804, 3.225, 3.5439, 2.0901, 1.539, 1.3926, 2.6484, 3.8412, 2.0016, 3.0552, 1.6777, 3.0949, 3.1634, 2.1699, 2.0797, 2.7663, 2.0007, 2.2234, 2.0804, 2.5957, 3.2779, 3.1521, 3.0199, 2.0856, 4.6421, 1.7843, 3.2946, 2.0413, 1.8019, 2.5958, 4.2906, 5.4161, 0.89346, 2.1225, 1.8019, 1.3763, 1.8213, 4.0937, 3.0266, 2.581, 2.3114, 4.0796, 2.6785, 2.4478, 4.231, 3.1868, 1.1017, 1.4438, 4.0729, 2.5899, 3.4886, 1.6777, 2.2234, 2.1663, 5.2997, 1.2058, 1.4871, 1.9847, 1.4814, 2.8064, 3.7514, 2.1229, 1.4758, 1.5404, 1.8435, 3.5439, 3.1052, 4.0729, 2.4342, 1.9431, 2.0019, 2.2234, 3.1868, 2.2437, 2.0267, 2.1421, 3.4924, 2.1663, 1.2572, 2.2234, 3.4924, 1.744, 3.225, 2.0405, 2.9517, 2.0856, 1.8845, 5.3366, 1.1941, 2.3764, 5.3352, 2.9534, 2.6785, 2.2588]\n"
     ]
    }
   ],
   "execution_count": 3
  },
  {
   "metadata": {
    "ExecuteTime": {
     "end_time": "2024-06-07T13:56:35.668653Z",
     "start_time": "2024-06-07T13:56:35.658847Z"
    }
   },
   "cell_type": "code",
   "source": [
    "atbara = [325, 18, 45, 1356, 135, 627, 1361, 139, 545, 1381, 1322, 1326, 1352, 648, 15, 1339, 1344, 1348, 750, 1319, 1366, 765]\n",
    "blueNile = [3, 1301, 484, 514, 1334, 1304, 492, 493, 474 ,1336, 1297, 452, 1058, 1296, 401, 393, 450, 441, 437, 429, 415, 412, 448, 2, 458, 463, 352, 356, 361, 343, 40, 334, 1293, 329, 247, 1, 307, 308, 1291, 293, 303, 1004, 485, 1377, 282, 230, 949, 286, 242, 234, 1253, 231, 261, 259, 255, 440, 228, 222, 1234, 1219, 248, 1287, 893, 210, 204, 209, 200, 201, 202, 425, 515, 1306]\n",
    "dinder = [1369, 1308, 635, 340]\n",
    "gerdToRoseires = [33, 530, 1374]\n",
    "rahad = [524, 519, 243, 10]\n",
    "roseiresToAbuNaama = [ 1309]\n",
    "sukiToSennar = [ 470, 1364, 1317, 1381, 31]\n",
    "whiteNile = [ 735, 1312, 1314, 260, 615, 21, 29, 634, 636, 1475, 715, 729, 807, 645, 794, 786, 608, 792, 1353, 1331, 779, 787, 17, 30, 1311, 9, 748, 739, 163, 162, 170, 178, 182, 150, 23, 176, 177, 349, 193, 190, 153, 355, 158, 184, 727, 26, 577, 737, 731, 420, 872, 420 ]"
   ],
   "id": "38fc389778279c7f",
   "outputs": [],
   "execution_count": 4
  },
  {
   "metadata": {
    "ExecuteTime": {
     "end_time": "2024-06-07T13:56:35.675291Z",
     "start_time": "2024-06-07T13:56:35.670660Z"
    }
   },
   "cell_type": "code",
   "source": [
    "regions = {\n",
    "    \"atbara\": atbara, \n",
    "    \"blueNile\" :blueNile, \n",
    "    \"dinder\": dinder, \n",
    "    \"gerdToRoseires\": gerdToRoseires, \n",
    "    \"rahad\": rahad, \n",
    "    \"roseiresToAbuNaama\": roseiresToAbuNaama, \n",
    "    \"sukiToSennar\": sukiToSennar, \n",
    "    \"whiteNile\": whiteNile\n",
    "}\n",
    "\n",
    "nu_of_days_per_month = [\n",
    "            31,  # January\n",
    "            28,  # February (non-leap year)\n",
    "            31,  # March\n",
    "            30,  # April\n",
    "            31,  # May\n",
    "            30,  # June\n",
    "            31,  # July\n",
    "            31,  # August\n",
    "            30,  # September\n",
    "            31,  # October\n",
    "            30,  # November\n",
    "            31,  # December\n",
    "        ]"
   ],
   "id": "1f9657df9dede4f1",
   "outputs": [],
   "execution_count": 5
  },
  {
   "metadata": {
    "ExecuteTime": {
     "end_time": "2024-06-07T13:56:35.681388Z",
     "start_time": "2024-06-07T13:56:35.676983Z"
    }
   },
   "cell_type": "code",
   "source": "print(len(grouped_data.values()))",
   "id": "3c5e375daa22367e",
   "outputs": [
    {
     "name": "stdout",
     "output_type": "stream",
     "text": [
      "97200\n"
     ]
    }
   ],
   "execution_count": 6
  },
  {
   "metadata": {
    "ExecuteTime": {
     "end_time": "2024-06-07T13:56:55.880763Z",
     "start_time": "2024-06-07T13:56:55.199094Z"
    }
   },
   "cell_type": "code",
   "source": [
    "import numpy as np\n",
    "\n",
    "for x in regions:\n",
    "    with open(f\"Averages/{x}.txt\", \"w\") as f:\n",
    "        for a in range(83, 323):\n",
    "            summ = 0 \n",
    "            for y in regions[x]:\n",
    "                summ += np.mean(grouped_data[f\"{y}.{a}\"])\n",
    "            perSecondAvg = summ * 1000000 / (nu_of_days_per_month[(a + 1) % 12] * 86400.0) # +1 because the measurements start january 31 24:00\n",
    "            f.write(f\"{perSecondAvg}\\n\")"
   ],
   "id": "56b792d1351b96d6",
   "outputs": [],
   "execution_count": 8
  },
  {
   "metadata": {
    "ExecuteTime": {
     "end_time": "2024-06-07T14:23:31.430827Z",
     "start_time": "2024-06-07T14:22:27.337216Z"
    }
   },
   "cell_type": "code",
   "source": [
    "from tqdm import tqdm\n",
    "\n",
    "distributions = {\n",
    "    \"Annealing_Baseline\": \"Baseline_grouped\",\n",
    "    \"Annealing_120Hurst\" : \"120Hurst_grouped\",\n",
    "    \"Annealing_150ias\" : \"150ias_grouped\",\n",
    "}\n",
    "\n",
    "for x in tqdm(distributions.keys()):\n",
    "    grouped_data = createGroupedData(x)\n",
    "    os.mkdir(f\"{distributions[x]}\")\n",
    "    for trace in range(100):\n",
    "        os.mkdir(f\"{distributions[x]}/trace{trace}\")\n",
    "        for reg in regions:\n",
    "            with open(os.path.join(f\"{distributions[x]}/trace{trace}/{reg}.txt\"), \"w\") as f:\n",
    "                for k in range(83, 323):\n",
    "                    summ = 0\n",
    "                    for y in regions[reg]:\n",
    "                        summ += grouped_data[f\"{y}.{k}\"][trace]\n",
    "                    avgPerSec = summ * 1000000 / (nu_of_days_per_month[(a + 1) % 12] * 86400.0) \n",
    "                    f.write(f\"{avgPerSec}\\n\")   "
   ],
   "id": "49a1c2794c8cede2",
   "outputs": [
    {
     "name": "stderr",
     "output_type": "stream",
     "text": [
      "100%|██████████| 3/3 [01:04<00:00, 21.36s/it]\n"
     ]
    }
   ],
   "execution_count": 13
  },
  {
   "metadata": {},
   "cell_type": "code",
   "outputs": [],
   "execution_count": null,
   "source": "",
   "id": "9b7b9cf447c85f84"
  }
 ],
 "metadata": {
  "kernelspec": {
   "display_name": "Python 3",
   "language": "python",
   "name": "python3"
  },
  "language_info": {
   "codemirror_mode": {
    "name": "ipython",
    "version": 2
   },
   "file_extension": ".py",
   "mimetype": "text/x-python",
   "name": "python",
   "nbconvert_exporter": "python",
   "pygments_lexer": "ipython2",
   "version": "2.7.6"
  }
 },
 "nbformat": 4,
 "nbformat_minor": 5
}
